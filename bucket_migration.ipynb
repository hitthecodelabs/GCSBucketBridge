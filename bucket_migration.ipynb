{
  "nbformat": 4,
  "nbformat_minor": 0,
  "metadata": {
    "colab": {
      "provenance": []
    },
    "kernelspec": {
      "name": "python3",
      "display_name": "Python 3"
    },
    "language_info": {
      "name": "python"
    }
  },
  "cells": [
    {
      "cell_type": "markdown",
      "source": [
        "#### Login using the gcloud CLI"
      ],
      "metadata": {
        "id": "HMveEAO-LzKN"
      }
    },
    {
      "cell_type": "code",
      "source": [
        "!gcloud auth login"
      ],
      "metadata": {
        "id": "B3wON7LCLqns"
      },
      "execution_count": null,
      "outputs": []
    },
    {
      "cell_type": "markdown",
      "source": [
        "#### Set the project that contains your bucket"
      ],
      "metadata": {
        "id": "DHv5whvaL7My"
      }
    },
    {
      "cell_type": "code",
      "source": [
        "# !gcloud config set project project-id-1\n",
        "!gcloud config set project project-id-2"
      ],
      "metadata": {
        "id": "V9atLGhYAm-W"
      },
      "execution_count": null,
      "outputs": []
    },
    {
      "cell_type": "markdown",
      "source": [
        "#### CREATE A SERVICE ACCOUNT | just in case you dont have one"
      ],
      "metadata": {
        "id": "J7q10YrILYdd"
      }
    },
    {
      "cell_type": "code",
      "source": [
        "# !gcloud iam service-accounts create readonly-data-viewer --description=\"Service account for read-only access to Datastore\" --display-name=\"Datastore ReadOnly\""
      ],
      "metadata": {
        "id": "Lo_jFRVFMTxT"
      },
      "execution_count": null,
      "outputs": []
    },
    {
      "cell_type": "markdown",
      "source": [
        "#### Set the service account permissions"
      ],
      "metadata": {
        "id": "1vzZLMoMMWv6"
      }
    },
    {
      "cell_type": "code",
      "source": [
        "# !gcloud projects add-iam-policy-binding project-id-2 --member=serviceAccount:readonly-data-viewer@project-id-2.iam.gserviceaccount.com --role=roles/storage.objectViewer\n",
        "# !gcloud projects add-iam-policy-binding project-id-2 --member=serviceAccount:readonly-data-viewer@project-id-2.iam.gserviceaccount.com --role=roles/storage.objectCreator"
      ],
      "metadata": {
        "id": "Wnh_6X7CMalC"
      },
      "execution_count": null,
      "outputs": []
    },
    {
      "cell_type": "markdown",
      "source": [
        "#### Get the keys"
      ],
      "metadata": {
        "id": "z_RtjlYWMkI8"
      }
    },
    {
      "cell_type": "code",
      "source": [
        "# !gcloud iam service-accounts keys create ./datastore-readonly3-key.json --iam-account readonly-data-viewer@project-id-2.iam.gserviceaccount.com"
      ],
      "metadata": {
        "id": "kYRsRECGMkA7"
      },
      "execution_count": null,
      "outputs": []
    },
    {
      "cell_type": "markdown",
      "source": [
        "#### Once you conclude the work, remove risky permissions"
      ],
      "metadata": {
        "id": "reQ0e8_NMUTb"
      }
    },
    {
      "cell_type": "code",
      "source": [
        "# !gcloud projects remove-iam-policy-binding steam-project-id-2 --member=serviceAccount:readonly-data-viewer@steam-project-id-2.iam.gserviceaccount.com --role=roles/storage.objectCreator"
      ],
      "metadata": {
        "id": "DxYX2lShLS3_"
      },
      "execution_count": null,
      "outputs": []
    },
    {
      "cell_type": "markdown",
      "source": [
        "#### Let's begin the game"
      ],
      "metadata": {
        "id": "epkUOu0GMpm6"
      }
    },
    {
      "cell_type": "code",
      "source": [
        "import tempfile\n",
        "from glob import glob\n",
        "from google.cloud import storage"
      ],
      "metadata": {
        "id": "sjYsr2UJA3dy"
      },
      "execution_count": null,
      "outputs": []
    },
    {
      "cell_type": "markdown",
      "source": [
        "#### The functions I created for this task\n"
      ],
      "metadata": {
        "id": "qi2ftXQvRd7a"
      }
    },
    {
      "cell_type": "code",
      "source": [
        "def get_files(bucket_name):\n",
        "    blobs = storage_client.list_blobs(bucket_name)  ### Bucket initialization\n",
        "    files = [blob.name for blob in blobs]           ### Get list of blobs in bucket\n",
        "    return files\n",
        "\n",
        "def download_tmp_file(storage_client, bucket_name, blob_source, namef=''):\n",
        "    # Download files from bucket\n",
        "    bucket = storage_client.bucket(bucket_name) # Initialize bucket\n",
        "    blob = bucket.blob(blob_source)             # Initialize blob\n",
        "    if namef!=\"\":temp_local_path=f\"/tmp/{namef}\"\n",
        "    else:_, temp_local_path = tempfile.mkstemp()     # Create a temporary file\n",
        "    print(temp_local_path)\n",
        "    folder = \"/\".join(temp_local_path.split(\"/\")[:-1])\n",
        "    os.makedirs(folder, exist_ok=True)\n",
        "    blob.download_to_filename(temp_local_path)  # Download blob to temp file\n",
        "    return temp_local_path\n",
        "\n",
        "def upload_file(bucket_name, local_file, dest_buck_file):\n",
        "    bucket = storage_client.bucket(bucket_name) ### bucket initialize\n",
        "    blob = bucket.blob(dest_buck_file)          ### destiny directory in the bucket\n",
        "    blob.upload_from_filename(local_file)       ### local filename]"
      ],
      "metadata": {
        "id": "sBXJECgTBlz2"
      },
      "execution_count": null,
      "outputs": []
    },
    {
      "cell_type": "markdown",
      "source": [
        "#### Set the location of your keys"
      ],
      "metadata": {
        "id": "Gw1mZ4NjMvib"
      }
    },
    {
      "cell_type": "code",
      "source": [
        "import os\n",
        "\n",
        "# os.environ[\"GOOGLE_APPLICATION_CREDENTIALS\"] = \"/content/datastore-readonly2-key.json\" ### keys from account 1\n",
        "os.environ[\"GOOGLE_APPLICATION_CREDENTIALS\"] = \"/content/datastore-readonly3-key.json\"   ### keys from account 2"
      ],
      "metadata": {
        "id": "B0AXCkylAm41"
      },
      "execution_count": null,
      "outputs": []
    },
    {
      "cell_type": "markdown",
      "source": [
        "#### Initialize your bucket"
      ],
      "metadata": {
        "id": "Rv1tmJy8QvPc"
      }
    },
    {
      "cell_type": "code",
      "source": [
        "storage_client = storage.Client()\n",
        "\n",
        "# bucket_name = 'bucket_name_1'\n",
        "bucket_name = 'bucket_name_2'\n",
        "blobs = storage_client.list_blobs(bucket_name)"
      ],
      "metadata": {
        "id": "pzyBrMMXAm18"
      },
      "execution_count": null,
      "outputs": []
    },
    {
      "cell_type": "markdown",
      "source": [
        "#### Get the old bucket files into a list, remove those files you don't want to migrate"
      ],
      "metadata": {
        "id": "16f1YyuMQ1au"
      }
    },
    {
      "cell_type": "code",
      "source": [
        "L = get_files(bucket_name=bucket_name)\n",
        "L"
      ],
      "metadata": {
        "id": "qxR8ewceAmul"
      },
      "execution_count": null,
      "outputs": []
    },
    {
      "cell_type": "markdown",
      "source": [
        "#### Download the files into the temp folder in the Google Colab session"
      ],
      "metadata": {
        "id": "Y7dl_z31RDAy"
      }
    },
    {
      "cell_type": "code",
      "source": [
        "for filee in L:\n",
        "    download_tmp_file(storage_client=storage_client,\n",
        "                      bucket_name=bucket_name,\n",
        "                      blob_source=filee,\n",
        "                      namef=f'bucket/{filee}'\n",
        "                      )"
      ],
      "metadata": {
        "id": "9W62UCBsAmpt"
      },
      "execution_count": null,
      "outputs": []
    },
    {
      "cell_type": "markdown",
      "source": [
        "#### Finally, upload those files into the new bucket. Remember to set the required permissions to the service account."
      ],
      "metadata": {
        "id": "6mwLKrzSRHE6"
      }
    },
    {
      "cell_type": "code",
      "source": [
        "for ff in glob(\"/tmp/bucket/**/*.*\", recursive=True):\n",
        "    # print(ff)\n",
        "    dest = ff.replace(\"/tmp/bucket/\", \"\")\n",
        "    print(ff, dest)\n",
        "    upload_file(bucket_name=bucket_name,\n",
        "                local_file=ff,\n",
        "                dest_buck_file=dest)"
      ],
      "metadata": {
        "id": "5O8V_BawAmna"
      },
      "execution_count": null,
      "outputs": []
    },
    {
      "cell_type": "markdown",
      "source": [
        "#### And that's it. Now you're a professional Google Cloud Storage migrator!"
      ],
      "metadata": {
        "id": "o2P829k1RSCZ"
      }
    },
    {
      "cell_type": "code",
      "source": [],
      "metadata": {
        "id": "XO3QPMr4AmgC"
      },
      "execution_count": null,
      "outputs": []
    }
  ]
}